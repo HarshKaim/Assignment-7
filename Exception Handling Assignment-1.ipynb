{
 "cells": [
  {
   "cell_type": "markdown",
   "id": "8675b74e",
   "metadata": {},
   "source": [
    "Q1) What is an exception in Python? Write the difference between exception and syntax errors.\n",
    "\n",
    "Ans. \n",
    "An exception in python is the abrupt termination of the program while it is being executed. It may happen because of various reasons like dividing by zero, calling out of bound memory or trying to use a variable which has not been defined. \n",
    "\n",
    "Whereas syntax errors arises before the execution of the program begins. They arises during the compliation phase of the program and occurs because of the wrong syntax of code written by the programmer like missing keyword, spelling a keyword wrong etc."
   ]
  },
  {
   "cell_type": "markdown",
   "id": "c2a0064c",
   "metadata": {},
   "source": [
    "Q2) What happens when an exception is not handled? Explain with an example.\n",
    "\n",
    "Ans. When an exception is not handled the programs stops abruptly and further code is not executed and the interpreter generates an error message specific to the one because of which the error has occured.\n",
    "\n",
    "For e.g.\n",
    "\n",
    " x=int(input('Give the value of x: '))\n",
    " \n",
    " b=10/x\n",
    " \n",
    " print('b:',b) \n",
    "\n",
    "Here if enter the value of x as 0 then we are going to get an exception called ZeroDivisionError. And the program will terminate at this point and further code will not be executed."
   ]
  },
  {
   "cell_type": "code",
   "execution_count": 1,
   "id": "313f542c",
   "metadata": {},
   "outputs": [
    {
     "name": "stdout",
     "output_type": "stream",
     "text": [
      "Give the value of x: 0\n"
     ]
    },
    {
     "ename": "ZeroDivisionError",
     "evalue": "division by zero",
     "output_type": "error",
     "traceback": [
      "\u001b[1;31m---------------------------------------------------------------------------\u001b[0m",
      "\u001b[1;31mZeroDivisionError\u001b[0m                         Traceback (most recent call last)",
      "Input \u001b[1;32mIn [1]\u001b[0m, in \u001b[0;36m<cell line: 2>\u001b[1;34m()\u001b[0m\n\u001b[0;32m      1\u001b[0m x\u001b[38;5;241m=\u001b[39m\u001b[38;5;28mint\u001b[39m(\u001b[38;5;28minput\u001b[39m(\u001b[38;5;124m'\u001b[39m\u001b[38;5;124mGive the value of x: \u001b[39m\u001b[38;5;124m'\u001b[39m))\n\u001b[1;32m----> 2\u001b[0m b\u001b[38;5;241m=\u001b[39m\u001b[38;5;241;43m10\u001b[39;49m\u001b[38;5;241;43m/\u001b[39;49m\u001b[43mx\u001b[49m\n\u001b[0;32m      3\u001b[0m \u001b[38;5;28mprint\u001b[39m(\u001b[38;5;124m'\u001b[39m\u001b[38;5;124mb:\u001b[39m\u001b[38;5;124m'\u001b[39m,b)\n",
      "\u001b[1;31mZeroDivisionError\u001b[0m: division by zero"
     ]
    }
   ],
   "source": [
    "# Q2 example\n",
    "x=int(input('Give the value of x: '))\n",
    "b=10/x\n",
    "print('b:',b)"
   ]
  },
  {
   "cell_type": "markdown",
   "id": "6447c04d",
   "metadata": {},
   "source": [
    "Q3) Which python statements are used to catch and handle exceptions? Explain with the help of an example.\n",
    "\n",
    "Ans. try-except construct is used to catch and handle exceptions. We write the error prone code under the try block and when an exception arises the code under except block is executed instead of programe getting terminated."
   ]
  },
  {
   "cell_type": "code",
   "execution_count": 3,
   "id": "08c288c9",
   "metadata": {},
   "outputs": [
    {
     "name": "stdout",
     "output_type": "stream",
     "text": [
      "An error occured: division by zero\n"
     ]
    }
   ],
   "source": [
    "# Q3 example\n",
    "try:\n",
    "    a=5/0\n",
    "    print(a)\n",
    "except ZeroDivisionError as e:\n",
    "    print('An error occured:',e)"
   ]
  },
  {
   "cell_type": "markdown",
   "id": "d41fa021",
   "metadata": {},
   "source": [
    "Q4) Explain with an example:\n",
    "\n",
    "    a) try and else\n",
    "    b) finally\n",
    "    c) raise\n",
    "Ans. 'try and else' is used to mandatorily run a specific code only if the try block gets executed without any exception\n"
   ]
  },
  {
   "cell_type": "code",
   "execution_count": 9,
   "id": "cc00266d",
   "metadata": {},
   "outputs": [
    {
     "name": "stdout",
     "output_type": "stream",
     "text": [
      "a: 2.0\n"
     ]
    }
   ],
   "source": [
    "try:\n",
    "    a=4/2\n",
    "except Exception as e:\n",
    "    print('An error occured:', e)\n",
    "else:\n",
    "    print('a:',a)"
   ]
  },
  {
   "cell_type": "markdown",
   "id": "97fa0c8f",
   "metadata": {},
   "source": [
    "'finally' is used to run a specific kind of code no matter an exception has occured or not"
   ]
  },
  {
   "cell_type": "code",
   "execution_count": 11,
   "id": "98219b2a",
   "metadata": {},
   "outputs": [
    {
     "name": "stdout",
     "output_type": "stream",
     "text": [
      "An error occured: division by zero\n",
      "new value of a: 2.0\n"
     ]
    }
   ],
   "source": [
    "try:\n",
    "    a=4/0\n",
    "except ZeroDivisionError as e:\n",
    "    print('An error occured:',e)\n",
    "finally:\n",
    "    a=4/2\n",
    "    print('new value of a:',a)"
   ]
  },
  {
   "cell_type": "markdown",
   "id": "d3bfcb8a",
   "metadata": {},
   "source": [
    "'raise' keyword is used to generate an exception by the user itself"
   ]
  },
  {
   "cell_type": "code",
   "execution_count": 16,
   "id": "041de2e2",
   "metadata": {},
   "outputs": [
    {
     "name": "stdout",
     "output_type": "stream",
     "text": [
      "2.0\n",
      "Error: Dividing by zero\n"
     ]
    }
   ],
   "source": [
    "def division(x,y):\n",
    "    if y==0:\n",
    "        raise ZeroDivisionError('Dividing by zero')\n",
    "    return x/y\n",
    "\n",
    "try:\n",
    "    print(division(10,5))\n",
    "    print(division(10,0))\n",
    "except ZeroDivisionError as e:\n",
    "    print('Error:',e)"
   ]
  },
  {
   "cell_type": "markdown",
   "id": "ca7dc6d4",
   "metadata": {},
   "source": [
    "Q5) What is custom exceptions in python? Why do we need custom exceptions? Explain with an example.\n",
    "\n",
    "Ans. Custom exceptions are the user defined exceptions which user used to generate an exception according to his/her own rules. We need custom exceptions to handle special cases which are not checked or included under the inbuilt exceptions.\n",
    "For an example a program getting an input for age will show the age as valid even if we enter a negative number or a very large number. Such input will generate wrong output and should be handled accordingly."
   ]
  },
  {
   "cell_type": "markdown",
   "id": "b7c2fee9",
   "metadata": {},
   "source": [
    "Q6) Create a custom exception class. Use this class to handle an exception."
   ]
  },
  {
   "cell_type": "code",
   "execution_count": 17,
   "id": "1c7fab04",
   "metadata": {},
   "outputs": [
    {
     "name": "stdout",
     "output_type": "stream",
     "text": [
      "Enter Age: -2\n",
      "Invalid Age\n"
     ]
    }
   ],
   "source": [
    "class ValidateAge(Exception):\n",
    "    def __init__(self,message):\n",
    "        self.message=message\n",
    "\n",
    "def validate_age(age):\n",
    "    if age<0 or age>110:\n",
    "        raise ValidateAge('Invalid Age')\n",
    "    print('Valid Age')\n",
    "\n",
    "try:\n",
    "    age=int(input('Enter Age: '))\n",
    "    validate_age(age)\n",
    "except ValidateAge as e:\n",
    "    print(e)"
   ]
  },
  {
   "cell_type": "code",
   "execution_count": null,
   "id": "2e77b74f",
   "metadata": {},
   "outputs": [],
   "source": []
  }
 ],
 "metadata": {
  "kernelspec": {
   "display_name": "Python 3 (ipykernel)",
   "language": "python",
   "name": "python3"
  },
  "language_info": {
   "codemirror_mode": {
    "name": "ipython",
    "version": 3
   },
   "file_extension": ".py",
   "mimetype": "text/x-python",
   "name": "python",
   "nbconvert_exporter": "python",
   "pygments_lexer": "ipython3",
   "version": "3.9.12"
  }
 },
 "nbformat": 4,
 "nbformat_minor": 5
}
